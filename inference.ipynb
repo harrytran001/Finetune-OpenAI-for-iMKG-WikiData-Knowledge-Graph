{
 "cells": [
  {
   "cell_type": "code",
   "execution_count": 9,
   "metadata": {},
   "outputs": [],
   "source": [
    "import os\n",
    "import json\n",
    "import random\n",
    "\n",
    "from rdflib import Graph\n",
    "from openai import OpenAI\n",
    "from dotenv import load_dotenv\n",
    "\n",
    "from constants import SPARQL_GENERATION_PROMPT, TEST_DATA_PATH, TRAINED_MODEL_ID_PATH\n"
   ]
  },
  {
   "cell_type": "code",
   "execution_count": 10,
   "metadata": {},
   "outputs": [
    {
     "data": {
      "text/plain": [
       "True"
      ]
     },
     "execution_count": 10,
     "metadata": {},
     "output_type": "execute_result"
    }
   ],
   "source": [
    "load_dotenv()"
   ]
  },
  {
   "cell_type": "code",
   "execution_count": 8,
   "metadata": {},
   "outputs": [
    {
     "data": {
      "text/plain": [
       "<Graph identifier=Na29a73d7a56d4f70912336a0723f2c34 (<class 'rdflib.graph.Graph'>)>"
      ]
     },
     "execution_count": 8,
     "metadata": {},
     "output_type": "execute_result"
    }
   ],
   "source": [
    "g = Graph()\n",
    "ttl_file = f\"{os.getcwd()}/iMKG.ttl\"\n",
    "g.parse(ttl_file, format=\"turtle\")"
   ]
  },
  {
   "cell_type": "code",
   "execution_count": 11,
   "metadata": {},
   "outputs": [
    {
     "name": "stdout",
     "output_type": "stream",
     "text": [
      "Model name: ft:gpt-4o-2024-08-06:personal::AJwYBDYo\n"
     ]
    }
   ],
   "source": [
    "client = OpenAI()\n",
    "with open(TRAINED_MODEL_ID_PATH, \"r\", encoding=\"utf-8\") as f:\n",
    "    model_name = f.read()\n",
    "f.close()\n",
    "print(f\"Model name: {model_name}\")"
   ]
  },
  {
   "cell_type": "code",
   "execution_count": 15,
   "metadata": {},
   "outputs": [
    {
     "name": "stdout",
     "output_type": "stream",
     "text": [
      "Test data point:\n",
      "{\n",
      "    \"qid\": \"mcqa-928887a6-e67e-11ee-ad3a-58961d663d9c\",\n",
      "    \"question\": \"what film has the same screenwriter as [The Glass Slipper] and [Susan Hayward] was in it?\",\n",
      "    \"question_type\": \"movie_to_writer_to_movie_constraint_actor\",\n",
      "    \"topic_entity\": [\n",
      "        \"The Glass Slipper\",\n",
      "        \"Susan Hayward\"\n",
      "    ],\n",
      "    \"topic_entity_id\": [\n",
      "        \"https://www.wikidata.org/entity/Q200482\",\n",
      "        \"https://www.wikidata.org/entity/Q4501868\",\n",
      "        \"https://www.wikidata.org/entity/Q248837\"\n",
      "    ],\n",
      "    \"answer\": [\n",
      "        \"Valley of the Dolls\",\n",
      "        \"I'll Cry Tomorrow\"\n",
      "    ],\n",
      "    \"answer_id\": [\n",
      "        \"https://www.wikidata.org/entity/Q1170515\",\n",
      "        \"https://www.wikidata.org/entity/Q1332776\"\n",
      "    ],\n",
      "    \"sparql\": \"PREFIX rdfs: <http://www.w3.org/2000/01/rdf-schema#> SELECT DISTINCT ?label ?uri WHERE { ?rel1 rdfs:label \\\"written_by\\\" . ?e1 ?rel1 ?e2 ; rdfs:label \\\"The Glass Slipper\\\" . ?uri ?rel1 ?e2 ; ?rel4 ?e4 ; rdfs:label ?label . FILTER (?label != \\\"The Glass Slipper\\\") ?rel4 rdfs:label \\\"starred_actors\\\" . ?e4 rdfs:label \\\"Susan Hayward\\\" . }\"\n",
      "}\n"
     ]
    }
   ],
   "source": [
    "with open(TEST_DATA_PATH, \"r\", encoding=\"utf-8\") as f:\n",
    "    test_dataset = json.load(f)\n",
    "\n",
    "test_data_point = random.sample(test_dataset, 1)[0]\n",
    "print(f\"Test data point:\\n{json.dumps(test_data_point, indent=4)}\")"
   ]
  },
  {
   "cell_type": "code",
   "execution_count": 18,
   "metadata": {},
   "outputs": [
    {
     "name": "stdout",
     "output_type": "stream",
     "text": [
      "Generated SPARQL query:\n",
      "PREFIX rdfs: <http://www.w3.org/2000/01/rdf-schema#> SELECT DISTINCT ?label ?uri WHERE { ?rel1 rdfs:label \"written_by\" . ?e1 ?rel1 ?e2 ; rdfs:label \"The Glass Slipper\" . ?uri ?rel1 ?e2 ; ?rel4 ?e4 ; rdfs:label ?label . FILTER (?label != \"The Glass Slipper\") ?rel4 rdfs:label \"starred_actors\" . ?e4 rdfs:label \"Susan Hayward\" . }\n"
     ]
    }
   ],
   "source": [
    "response = client.chat.completions.create(\n",
    "    model=model_name,\n",
    "    messages=[\n",
    "        {\n",
    "            \"role\": \"system\",\n",
    "            \"content\": SPARQL_GENERATION_PROMPT,\n",
    "        },\n",
    "        {\n",
    "            \"role\": \"user\",\n",
    "            \"content\": test_data_point[\"question\"],\n",
    "        },\n",
    "    ],\n",
    "    temperature=0,\n",
    "    top_p=0,\n",
    ")\n",
    "generated_sparql_query = response.choices[0].message.content\n",
    "print(f\"Generated SPARQL query:\\n{generated_sparql_query}\")"
   ]
  },
  {
   "cell_type": "code",
   "execution_count": 20,
   "metadata": {},
   "outputs": [
    {
     "name": "stdout",
     "output_type": "stream",
     "text": [
      "The queries produce identical results.\n"
     ]
    }
   ],
   "source": [
    "generated_results = set(g.query(generated_sparql_query))\n",
    "sample_results = set(g.query(test_data_point[\"sparql\"]))\n",
    "\n",
    "# Compare the results\n",
    "if generated_results == sample_results:\n",
    "    print(\"The queries produce identical results.\")\n",
    "else:\n",
    "    print(\"The queries produce different results.\")"
   ]
  }
 ],
 "metadata": {
  "kernelspec": {
   "display_name": ".venv",
   "language": "python",
   "name": "python3"
  },
  "language_info": {
   "codemirror_mode": {
    "name": "ipython",
    "version": 3
   },
   "file_extension": ".py",
   "mimetype": "text/x-python",
   "name": "python",
   "nbconvert_exporter": "python",
   "pygments_lexer": "ipython3",
   "version": "3.10.14"
  }
 },
 "nbformat": 4,
 "nbformat_minor": 2
}
